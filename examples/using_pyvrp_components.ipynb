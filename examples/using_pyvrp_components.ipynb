{
 "cells": [
  {
   "attachments": {},
   "cell_type": "markdown",
   "metadata": {},
   "source": [
    "# Using PyVRP's components\n",
    "\n",
    "We have relied on the `Model` interface to solve VRP instances in the examples so far.\n",
    "That high-level interface hides a lot of the components that available in PyVRP, which uses [an iterated local search algorithm](https://pyvrp.org/setup/introduction_to_ils.html) under the hood.\n",
    "In this notebook we will investigate these components in more detail to build our own `solve` function based on iterated local search.\n",
    "\n",
    "Along the way we will solve the `RC208.vrp` instance, one of the well-known VRPTW benchmark instances of Solomon.\n",
    "This instance consists of 100 clients."
   ]
  },
  {
   "cell_type": "code",
   "execution_count": null,
   "metadata": {},
   "outputs": [],
   "source": [
    "from pyvrp import read\n",
    "\n",
    "INSTANCE = read(\"data/RC208.vrp\", round_func=\"dimacs\")"
   ]
  },
  {
   "attachments": {},
   "cell_type": "markdown",
   "metadata": {},
   "source": [
    "We will implement a `solve()` function that will take a `stop` stopping criterion, and a `seed` for the random number generator.\n",
    "This definition is very close to that of `Model.solve`.\n",
    "The signature is\n",
    "```python\n",
    "def solve(stop: StoppingCriterion, seed: int) -> Solution: ...\n",
    "```"
   ]
  },
  {
   "attachments": {},
   "cell_type": "markdown",
   "metadata": {},
   "source": [
    "## A tour of PyVRP\n",
    "\n",
    "We need to understand the separate components in PyVRP before we are ready to implement this function.\n",
    "PyVRP uses an iterated local search algorithm under the hood.\n",
    "The `IteratedLocalSearch` object manages a current solution.\n",
    "In each iteration, the current solution is modified using a method from `pyvrp.search` -- this method should perform both perturbation and improvement steps.\n",
    "This candidate solution is then considered for acceptance based on a dynamic threshold value.\n",
    "This process continues until a stopping condition is reached (see `pyvrp.stop` for different conditions).\n",
    "Let's have a look at the different parts of `pyvrp` that implement this algorithm."
   ]
  },
  {
   "attachments": {},
   "cell_type": "markdown",
   "metadata": {},
   "source": [
    "To instantiate the `IteratedLocalSearch`, we first need to specify an initial solution, search method, penalty manager and random number generator.\n",
    "Let's start with the random number generator because it is the easiest to set up.\n",
    "\n",
    "##### Random number generator"
   ]
  },
  {
   "cell_type": "code",
   "execution_count": null,
   "metadata": {},
   "outputs": [],
   "source": [
    "from pyvrp import RandomNumberGenerator\n",
    "\n",
    "rng = RandomNumberGenerator(seed=42)"
   ]
  },
  {
   "attachments": {},
   "cell_type": "markdown",
   "metadata": {},
   "source": [
    "##### Search method\n",
    "\n",
    "Let's now define the search method.\n",
    "The search method should apply both perturbation and improvement steps.\n",
    "PyVRP currently implements a `LocalSearch` method that is very customisable with different operators and search neighbourhoods.\n",
    "Different operators search different parts of the solution space, which can be beneficial in finding better solutions.\n",
    "The neighbourhood defines which edges are evaluated.\n",
    "By restricting that set of edges the local search method works much faster.\n",
    "\n",
    "We provide default operator sets and neighbourhoods, which can be used as follows.  "
   ]
  },
  {
   "cell_type": "code",
   "execution_count": null,
   "metadata": {},
   "outputs": [],
   "source": [
    "from pyvrp.search import (\n",
    "    NODE_OPERATORS,\n",
    "    PERTURBATION_OPERATORS,\n",
    "    ROUTE_OPERATORS,\n",
    "    LocalSearch,\n",
    "    compute_neighbours,\n",
    ")\n",
    "\n",
    "neighbours = compute_neighbours(INSTANCE)\n",
    "ls = LocalSearch(INSTANCE, rng, neighbours)\n",
    "\n",
    "for node_op in NODE_OPERATORS:\n",
    "    ls.add_node_operator(node_op(INSTANCE))\n",
    "\n",
    "for route_op in ROUTE_OPERATORS:\n",
    "    ls.add_route_operator(route_op(INSTANCE))\n",
    "\n",
    "num_perturbations = 10\n",
    "for perturb_op in PERTURBATION_OPERATORS:\n",
    "    ls.add_perturbation_operator(perturb_op(INSTANCE, num_perturbations))"
   ]
  },
  {
   "attachments": {},
   "cell_type": "markdown",
   "metadata": {},
   "source": [
    "##### Solution representation and evaluation\n",
    "\n",
    "We now have a functioning local search method.\n",
    "All we need are two additional components to make it work: a `Solution` that described a set of routes, and a `CostEvaluator` that can be used to evaluate different moves.\n",
    "Let's define those."
   ]
  },
  {
   "cell_type": "code",
   "execution_count": null,
   "metadata": {},
   "outputs": [],
   "source": [
    "from pyvrp import CostEvaluator, Solution\n",
    "\n",
    "cost_evaluator = CostEvaluator(\n",
    "    load_penalties=[20],\n",
    "    tw_penalty=20,\n",
    "    dist_penalty=0,\n",
    ")\n",
    "sol = Solution.make_random(INSTANCE, rng)"
   ]
  },
  {
   "attachments": {},
   "cell_type": "markdown",
   "metadata": {},
   "source": [
    "The random solution `sol` that we created just yet is not feasible.\n",
    "This is not a problem, because PyVRP internally uses penalties to evaluate infeasibilities in each solution.\n",
    "This is done using the `CostEvaluator`'s `penalised_cost` function, which allows us to determine the quality of infeasible solutions as well."
   ]
  },
  {
   "cell_type": "code",
   "execution_count": null,
   "metadata": {},
   "outputs": [],
   "source": [
    "assert not sol.is_feasible()\n",
    "print(cost_evaluator.penalised_cost(sol))"
   ]
  },
  {
   "attachments": {},
   "cell_type": "markdown",
   "metadata": {},
   "source": [
    "Let's see if the local search can improve this solution further."
   ]
  },
  {
   "cell_type": "code",
   "execution_count": null,
   "metadata": {},
   "outputs": [],
   "source": [
    "new_sol = ls.search(sol, cost_evaluator)\n",
    "\n",
    "assert not sol.is_feasible()\n",
    "print(cost_evaluator.penalised_cost(new_sol))"
   ]
  },
  {
   "attachments": {},
   "cell_type": "markdown",
   "metadata": {},
   "source": [
    "Much better! \n",
    "But the new solution is not yet feasible.\n",
    "Can we hammer out the infeasibilities by increasing the penalties?"
   ]
  },
  {
   "cell_type": "code",
   "execution_count": null,
   "metadata": {},
   "outputs": [],
   "source": [
    "cost_evaluator = CostEvaluator([200], 200, 0)\n",
    "new_sol = ls.search(sol, cost_evaluator)\n",
    "\n",
    "assert new_sol.is_feasible()"
   ]
  },
  {
   "attachments": {},
   "cell_type": "markdown",
   "metadata": {},
   "source": [
    "How good is this solution?"
   ]
  },
  {
   "cell_type": "code",
   "execution_count": null,
   "metadata": {},
   "outputs": [],
   "source": [
    "print(cost_evaluator.penalised_cost(new_sol))"
   ]
  },
  {
   "attachments": {},
   "cell_type": "markdown",
   "metadata": {},
   "source": [
    "Pretty good!\n",
    "This is how PyVRP manages infeasibilities: it adjusts the penalty parameters to ensure sufficiently many solutions are feasible.\n",
    "Too few feasible solutions and the penalties go up; too many and they go down.\n",
    "This ensures a balanced population of feasible and infeasible solutions, which is good for diversity and crossover.\n",
    "\n",
    "The object in charge of managing the penalty terms is the `PenaltyManager`, which can be asked to provide a `CostEvaluator` of the form we saw above."
   ]
  },
  {
   "cell_type": "code",
   "execution_count": null,
   "metadata": {},
   "outputs": [],
   "source": [
    "from pyvrp import PenaltyManager\n",
    "\n",
    "pen_manager = PenaltyManager.init_from(INSTANCE)\n",
    "cost_evaluator = pen_manager.cost_evaluator()"
   ]
  },
  {
   "cell_type": "markdown",
   "metadata": {},
   "source": [
    "##### The genetic algorithm and crossover"
   ]
  },
  {
   "attachments": {},
   "cell_type": "markdown",
   "metadata": {},
   "source": [
    "An initial solution can be constructed easily using the random solution constructor:"
   ]
  },
  {
   "cell_type": "code",
   "execution_count": null,
   "metadata": {},
   "outputs": [],
   "source": [
    "init_sol = Solution.make_random(INSTANCE, rng)"
   ]
  },
  {
   "attachments": {},
   "cell_type": "markdown",
   "metadata": {},
   "source": [
    "We are now ready to construct the iterated local search algorithm."
   ]
  },
  {
   "cell_type": "code",
   "execution_count": null,
   "metadata": {},
   "outputs": [],
   "source": [
    "from pyvrp import IteratedLocalSearch\n",
    "\n",
    "algo = IteratedLocalSearch(INSTANCE, pen_manager, rng, ls, init_sol)"
   ]
  },
  {
   "attachments": {},
   "cell_type": "markdown",
   "metadata": {},
   "source": [
    "We can call `algo.run`, which iterates until a stopping criterion is met.\n",
    "These stopping criteria can be imported from `pyvrp.stop` - see [the API documentation](https://pyvrp.org/api/stop.html) for details."
   ]
  },
  {
   "cell_type": "code",
   "execution_count": null,
   "metadata": {},
   "outputs": [],
   "source": [
    "from pyvrp.stop import MaxIterations, MaxRuntime\n",
    "\n",
    "iter_res = algo.run(stop=MaxIterations(500))\n",
    "time_res = algo.run(stop=MaxRuntime(1))  # seconds"
   ]
  },
  {
   "attachments": {},
   "cell_type": "markdown",
   "metadata": {},
   "source": [
    "Let's investigate the solutions!"
   ]
  },
  {
   "cell_type": "code",
   "execution_count": null,
   "metadata": {},
   "outputs": [],
   "source": [
    "print(iter_res)"
   ]
  },
  {
   "cell_type": "code",
   "execution_count": null,
   "metadata": {},
   "outputs": [],
   "source": [
    "print(time_res)"
   ]
  },
  {
   "attachments": {},
   "cell_type": "markdown",
   "metadata": {},
   "source": [
    "## The `solve` function\n",
    "\n",
    "Let's put everything we have learned together into a `solve` function."
   ]
  },
  {
   "cell_type": "code",
   "execution_count": null,
   "metadata": {},
   "outputs": [],
   "source": [
    "def solve(stop, seed):\n",
    "    rng = RandomNumberGenerator(seed=seed)\n",
    "    pm = PenaltyManager.init_from(INSTANCE)\n",
    "\n",
    "    neighbours = compute_neighbours(INSTANCE)\n",
    "    ls = LocalSearch(INSTANCE, rng, neighbours)\n",
    "\n",
    "    for node_op in NODE_OPERATORS:\n",
    "        ls.add_node_operator(node_op(INSTANCE))\n",
    "\n",
    "    for route_op in ROUTE_OPERATORS:\n",
    "        ls.add_route_operator(route_op(INSTANCE))\n",
    "\n",
    "    num_perturbations = 10\n",
    "    for perturb_op in PERTURBATION_OPERATORS:\n",
    "        ls.add_perturbation_operator(perturb_op(INSTANCE, num_perturbations))\n",
    "\n",
    "    init = Solution.make_random(INSTANCE, rng)\n",
    "    algo = IteratedLocalSearch(INSTANCE, pm, rng, ls, init)\n",
    "\n",
    "    return algo.run(stop)"
   ]
  },
  {
   "attachments": {},
   "cell_type": "markdown",
   "metadata": {},
   "source": [
    "Very good.\n",
    "Let's solve the instance again, now using the `solve` function."
   ]
  },
  {
   "cell_type": "code",
   "execution_count": null,
   "metadata": {},
   "outputs": [],
   "source": [
    "res = solve(stop=MaxIterations(1000), seed=1)\n",
    "print(res)"
   ]
  },
  {
   "attachments": {},
   "cell_type": "markdown",
   "metadata": {},
   "source": [
    "PyVRP also provides many plotting tools that can be used to investigate a data instance or solution result."
   ]
  },
  {
   "cell_type": "code",
   "execution_count": null,
   "metadata": {},
   "outputs": [],
   "source": [
    "import matplotlib.pyplot as plt\n",
    "\n",
    "from pyvrp.plotting import plot_result"
   ]
  },
  {
   "cell_type": "code",
   "execution_count": null,
   "metadata": {},
   "outputs": [],
   "source": [
    "fig = plt.figure(figsize=(12, 8))\n",
    "\n",
    "plot_result(res, INSTANCE, fig=fig)\n",
    "plt.tight_layout()"
   ]
  },
  {
   "attachments": {},
   "cell_type": "markdown",
   "metadata": {},
   "source": [
    "The top-left figure shows the penalised costs of the current, candidate, and best solutions across iterations.\n",
    "The fluctuations in current solution costs demonstrate the acceptance criterion's strategy: while generally favoring improvements, it occasionally accepts worse solutions to escape local minima.\n",
    "Meanwhile, the candidate solution cost variations show the perturbation strategy - generating diverse solutions that, despite occasionally being significantly worse, are essential to find superior solutions occasionally.\n",
    "The bottom-left figure shows average iteration runtimes (in seconds).\n",
    "Finally, the figure on the right plots the best observed solution."
   ]
  },
  {
   "attachments": {},
   "cell_type": "markdown",
   "metadata": {},
   "source": [
    "## Conclusion\n",
    "\n",
    "In this notebook we have used some of the different components in PyVRP to implement our own `solve` function.\n",
    "Along the way we learned about how PyVRP works internally."
   ]
  }
 ],
 "metadata": {
  "kernelspec": {
   "display_name": "Python 3 (ipykernel)",
   "language": "python",
   "name": "python3"
  },
  "language_info": {
   "codemirror_mode": {
    "name": "ipython",
    "version": 3
   },
   "file_extension": ".py",
   "mimetype": "text/x-python",
   "name": "python",
   "nbconvert_exporter": "python",
   "pygments_lexer": "ipython3",
   "version": "3.11.11"
  }
 },
 "nbformat": 4,
 "nbformat_minor": 4
}
